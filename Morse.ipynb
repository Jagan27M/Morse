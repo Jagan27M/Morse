{
 "cells": [
  {
   "cell_type": "markdown",
   "metadata": {},
   "source": [
    "#### Morse code... Aarambikalangala"
   ]
  },
  {
   "cell_type": "code",
   "execution_count": null,
   "metadata": {},
   "outputs": [],
   "source": [
    "import os"
   ]
  },
  {
   "cell_type": "code",
   "execution_count": 3,
   "metadata": {},
   "outputs": [
    {
     "data": {
      "text/plain": [
       "'\\n# Hard-coded driver function to run the program\\ndef main():\\n\\tmessage = \"GEEKS-FOR-GEEKS\"\\n\\tresult = encrypt(message.upper())\\n\\tprint (result)\\n\\n\\tmessage = \"--. . . -.- ... -....- ..-. --- .-. -....- --. . . -.- ... \"\\n\\tresult = decrypt(message)\\n\\tprint (result)\\n\\n# Executes the main function\\nif __name__ == \\'__main__\\':\\n\\tmain()\\n'"
      ]
     },
     "execution_count": 3,
     "metadata": {},
     "output_type": "execute_result"
    }
   ],
   "source": [
    "\n",
    "# Python program to implement Morse Code Translator\n",
    "\n",
    "'''\n",
    "VARIABLE KEY\n",
    "'cipher' -> 'stores the morse translated form of the english string'\n",
    "'decipher' -> 'stores the english translated form of the morse string'\n",
    "'citext' -> 'stores morse code of a single character'\n",
    "'i' -> 'keeps count of the spaces between morse characters'\n",
    "'message' -> 'stores the string to be encoded or decoded'\n",
    "'''\n",
    "\n",
    "# Dictionary representing the morse code chart\n",
    "MORSE_CODE_DICT = { 'A':'.-', 'B':'-...',\n",
    "\t\t\t\t\t'C':'-.-.', 'D':'-..', 'E':'.',\n",
    "\t\t\t\t\t'F':'..-.', 'G':'--.', 'H':'....',\n",
    "\t\t\t\t\t'I':'..', 'J':'.---', 'K':'-.-',\n",
    "\t\t\t\t\t'L':'.-..', 'M':'--', 'N':'-.',\n",
    "\t\t\t\t\t'O':'---', 'P':'.--.', 'Q':'--.-',\n",
    "\t\t\t\t\t'R':'.-.', 'S':'...', 'T':'-',\n",
    "\t\t\t\t\t'U':'..-', 'V':'...-', 'W':'.--',\n",
    "\t\t\t\t\t'X':'-..-', 'Y':'-.--', 'Z':'--..',\n",
    "\t\t\t\t\t'1':'.----', '2':'..---', '3':'...--',\n",
    "\t\t\t\t\t'4':'....-', '5':'.....', '6':'-....',\n",
    "\t\t\t\t\t'7':'--...', '8':'---..', '9':'----.',\n",
    "\t\t\t\t\t'0':'-----', ', ':'--..--', '.':'.-.-.-',\n",
    "\t\t\t\t\t'?':'..--..', '/':'-..-.', '-':'-....-',\n",
    "\t\t\t\t\t'(':'-.--.', ')':'-.--.-'}\n",
    "\n",
    "# Function to encrypt the string\n",
    "# according to the morse code chart\n",
    "def encrypt(message):\n",
    "\tcipher = ''\n",
    "\tfor letter in message:\n",
    "\t\tif letter != ' ':\n",
    "\n",
    "\t\t\t# Looks up the dictionary and adds the\n",
    "\t\t\t# corresponding morse code\n",
    "\t\t\t# along with a space to separate\n",
    "\t\t\t# morse codes for different characters\n",
    "\t\t\tcipher += MORSE_CODE_DICT[letter] + ' '\n",
    "\t\telse:\n",
    "\t\t\t# 1 space indicates different characters\n",
    "\t\t\t# and 2 indicates different words\n",
    "\t\t\tcipher += ' '\n",
    "\n",
    "\treturn cipher\n",
    "\n",
    "# Function to decrypt the string\n",
    "# from morse to english\n",
    "def decrypt(message):\n",
    "\n",
    "\t# extra space added at the end to access the\n",
    "\t# last morse code\n",
    "\tmessage += ' '\n",
    "\n",
    "\tdecipher = ''\n",
    "\tcitext = ''\n",
    "\tfor letter in message:\n",
    "\n",
    "\t\t# checks for space\n",
    "\t\tif (letter != ' '):\n",
    "\n",
    "\t\t\t# counter to keep track of space\n",
    "\t\t\ti = 0\n",
    "\n",
    "\t\t\t# storing morse code of a single character\n",
    "\t\t\tcitext += letter\n",
    "\n",
    "\t\t# in case of space\n",
    "\t\telse:\n",
    "\t\t\t# if i = 1 that indicates a new character\n",
    "\t\t\ti += 1\n",
    "\n",
    "\t\t\t# if i = 2 that indicates a new word\n",
    "\t\t\tif i == 2 :\n",
    "\n",
    "\t\t\t\t# adding space to separate words\n",
    "\t\t\t\tdecipher += ' '\n",
    "\t\t\telse:\n",
    "\n",
    "\t\t\t\t# accessing the keys using their values (reverse of encryption)\n",
    "\t\t\t\tdecipher += list(MORSE_CODE_DICT.keys())[list(MORSE_CODE_DICT\n",
    "\t\t\t\t.values()).index(citext)]\n",
    "\t\t\t\tcitext = ''\n",
    "\n",
    "\treturn decipher\n",
    "'''\n",
    "# Hard-coded driver function to run the program\n",
    "def main():\n",
    "\tmessage = \"GEEKS-FOR-GEEKS\"\n",
    "\tresult = encrypt(message.upper())\n",
    "\tprint (result)\n",
    "\n",
    "\tmessage = \"--. . . -.- ... -....- ..-. --- .-. -....- --. . . -.- ... \"\n",
    "\tresult = decrypt(message)\n",
    "\tprint (result)\n",
    "\n",
    "# Executes the main function\n",
    "if __name__ == '__main__':\n",
    "\tmain()\n",
    "'''"
   ]
  },
  {
   "cell_type": "code",
   "execution_count": 5,
   "metadata": {},
   "outputs": [
    {
     "data": {
      "text/plain": [
       "'.- -... -.-. -.. . ..-. --. .... .. .--- -.- .-.. -- -. --- .--. --.- .-. ... - ..- ...- .-- -..- -.-- --.. '"
      ]
     },
     "execution_count": 5,
     "metadata": {},
     "output_type": "execute_result"
    }
   ],
   "source": [
    "encrypt('ABCDEFGHIJKLMNOPQRSTUVWXYZ')"
   ]
  },
  {
   "cell_type": "code",
   "execution_count": 6,
   "metadata": {},
   "outputs": [
    {
     "data": {
      "text/plain": [
       "'.--- .- --. .- -. '"
      ]
     },
     "execution_count": 6,
     "metadata": {},
     "output_type": "execute_result"
    }
   ],
   "source": [
    "encrypt('JAGAN')"
   ]
  },
  {
   "cell_type": "code",
   "execution_count": 23,
   "metadata": {},
   "outputs": [
    {
     "name": "stdout",
     "output_type": "stream",
     "text": [
      "-...\n",
      "-.-.\n",
      "..-.\n",
      "....\n",
      ".---\n",
      ".-..\n",
      ".--.\n",
      "--.-\n",
      "...-\n",
      "-..-\n",
      "-.--\n",
      "--..\n"
     ]
    }
   ],
   "source": [
    "for code in list(MORSE_CODE_DICT.values()):\n",
    "    if len(code)==4:\n",
    "        print(code)\n",
    "\n",
    "# ['..--', '.-.-', '---.', '----'] # does not exist"
   ]
  },
  {
   "cell_type": "code",
   "execution_count": 22,
   "metadata": {},
   "outputs": [
    {
     "data": {
      "text/plain": [
       "26"
      ]
     },
     "execution_count": 22,
     "metadata": {},
     "output_type": "execute_result"
    }
   ],
   "source": [
    "2+4+8+12"
   ]
  },
  {
   "cell_type": "code",
   "execution_count": 31,
   "metadata": {},
   "outputs": [
    {
     "data": {
      "text/plain": [
       "'0'"
      ]
     },
     "execution_count": 31,
     "metadata": {},
     "output_type": "execute_result"
    }
   ],
   "source": [
    "bin(0)[2:]"
   ]
  },
  {
   "cell_type": "code",
   "execution_count": 2,
   "metadata": {},
   "outputs": [],
   "source": [
    "ordered_list = ['.', '-', '..', '.-', '-.', '--', '...', '..-', '.-.', '.--', '-..', '-.-', '--.', '---', \n",
    "                '....', '...-', '..-.', '..--', '.-..', '.-.-', '.--.', '.---', '-...', '-..-', '-.-.', '-.--', '--..', '--.-', '---.', '----']"
   ]
  },
  {
   "cell_type": "code",
   "execution_count": 3,
   "metadata": {},
   "outputs": [
    {
     "name": "stdout",
     "output_type": "stream",
     "text": [
      ". : E\n",
      "- : T\n",
      ".. : I\n",
      ".- : A\n",
      "-. : N\n",
      "-- : M\n",
      "... : S\n",
      "..- : U\n",
      ".-. : R\n",
      ".-- : W\n",
      "-.. : D\n",
      "-.- : K\n",
      "--. : G\n",
      "--- : O\n",
      ".... : H\n",
      "...- : V\n",
      "..-. : F\n",
      ".-.. : L\n",
      ".--. : P\n",
      ".--- : J\n",
      "-... : B\n",
      "-..- : X\n",
      "-.-. : C\n",
      "-.-- : Y\n",
      "--.. : Z\n",
      "--.- : Q\n"
     ]
    }
   ],
   "source": [
    "for code in ordered_list:\n",
    "    if code not in ['..--', '.-.-', '---.', '----']:\n",
    "        print(code+' : '+decrypt(code))"
   ]
  },
  {
   "cell_type": "markdown",
   "metadata": {},
   "source": [
    "#### Random Practice"
   ]
  },
  {
   "cell_type": "code",
   "execution_count": 4,
   "metadata": {},
   "outputs": [
    {
     "name": "stdout",
     "output_type": "stream",
     "text": [
      "-\n",
      "-\n",
      "--.\n",
      "-.-.\n",
      "--..\n",
      "-\n",
      "-..\n",
      ".-.\n",
      "---\n",
      "-.--\n",
      "-..-\n",
      "-...\n",
      "---\n",
      "-.-\n",
      "--\n",
      "...-\n",
      ".-\n",
      ".--\n",
      "-.-\n",
      "-.\n",
      ".\n",
      "-.-.\n",
      "...-\n",
      ".-..\n",
      "--\n",
      "-..-\n",
      "-.--\n",
      "--.-\n",
      "-\n",
      ".\n",
      "---\n",
      "-..-\n",
      "-...\n",
      ".--\n",
      ".\n",
      "-.\n",
      "..-.\n",
      "-..-\n",
      "--.-\n",
      "--\n",
      "--.\n",
      ".-.\n",
      "--.\n",
      "--.-\n",
      "---\n",
      "-\n",
      ".\n",
      "..-.\n",
      "..-\n",
      "--.\n",
      "- - --. -.-. --.. - -.. .-. --- -.-- -..- -... --- -.- -- ...- .- .-- -.- -. . -.-. ...- .-.. -- -..- -.-- --.- - . --- -..- -... .-- . -. ..-. -..- --.- -- --. .-. --. --.- --- - . ..-. ..- --. \n"
     ]
    }
   ],
   "source": [
    "import random\n",
    "\n",
    "l = list(MORSE_CODE_DICT.values())\n",
    "str = ''\n",
    "for i in range(50):\n",
    "    t = l[round(random.random()*25)]\n",
    "    print(t)\n",
    "    str = str + t + ' '\n",
    "print(str)"
   ]
  },
  {
   "cell_type": "code",
   "execution_count": 5,
   "metadata": {},
   "outputs": [
    {
     "data": {
      "text/plain": [
       "'TTGCZTDROYXBOKMVAWKNECVLMXYQTEOXBWENFXQMGRGQOTEFUG '"
      ]
     },
     "execution_count": 5,
     "metadata": {},
     "output_type": "execute_result"
    }
   ],
   "source": [
    "decrypt('- - --. -.-. --.. - -.. .-. --- -.-- -..- -... --- -.- -- ...- .- .-- -.- -. . -.-. ...- .-.. -- -..- -.-- --.- - . --- -..- -... .-- . -. ..-. -..- --.- -- --. .-. --. --.- --- - . ..-. ..- --. ')"
   ]
  },
  {
   "cell_type": "code",
   "execution_count": null,
   "metadata": {},
   "outputs": [],
   "source": [
    "# TTGCZTDROYXBOKMVAWKNECVLMXYQTEOXBWENFXQMGRGQOTEFUG"
   ]
  },
  {
   "cell_type": "code",
   "execution_count": 6,
   "metadata": {},
   "outputs": [
    {
     "data": {
      "text/plain": [
       "'HELLO WORLD'"
      ]
     },
     "execution_count": 6,
     "metadata": {},
     "output_type": "execute_result"
    }
   ],
   "source": [
    "decrypt('.... . .-.. .-.. ---  .-- --- .-. .-.. -..')"
   ]
  },
  {
   "cell_type": "code",
   "execution_count": 7,
   "metadata": {},
   "outputs": [
    {
     "data": {
      "text/plain": [
       "'MY NAME IS JAGAN MURUGESAN'"
      ]
     },
     "execution_count": 7,
     "metadata": {},
     "output_type": "execute_result"
    }
   ],
   "source": [
    "decrypt('-- -.--  -. .- -- .  .. ...  .--- .- --. .- -.  -- ..- .-. ..- --. . ... .- -.')"
   ]
  },
  {
   "cell_type": "markdown",
   "metadata": {},
   "source": [
    "#### Paatu Paadava, Parthu Paesava, Paadam sollava, Parandhu sellavaa"
   ]
  },
  {
   "cell_type": "code",
   "execution_count": 7,
   "metadata": {},
   "outputs": [
    {
     "data": {
      "text/plain": [
       "'NETRU NEE ENGU IRUNDHAI KAATRAE NEE SOLVAAI ENDRU SWAASATHIL IRUNDHADHAAGA CHOLLI SENDRAAI'"
      ]
     },
     "execution_count": 7,
     "metadata": {},
     "output_type": "execute_result"
    }
   ],
   "source": [
    "decrypt('-. . - .-. ..-  -. . .  . -. --. ..-  .. .-. ..- -. -.. .... .- ..  -.- .- .- - .-. .- .  -. . .  ... --- .-.. ...- .- .- ..  . -. -.. .-. ..-  ... .-- .- .- ... .- - .... .. .-..  .. .-. ..- -. -.. .... .- -.. .... .- .- --. .-  -.-. .... --- .-.. .-.. ..  ... . -. -.. .-. .- .- ..')"
   ]
  },
  {
   "cell_type": "code",
   "execution_count": 49,
   "metadata": {},
   "outputs": [],
   "source": [
    "ver1 = ['.. -. -.. .... .-  -... .... --- --- -- ..  .. .-.. .-  . .--. .--. ---  ...- .- -. -.. .... ..-  -. .  .--. --- .-. .- -. -.. .... .-', \n",
    "        '. -.  -... ..- -.. -.. .... ..  -.- ..- .-.. .-.. .-  - .... . . .--. --- .-. .. -.-- .-  -. . .  ...- . -.. .... .- -.-. .... .-', \n",
    "        '.- -.. .-  - .... . -.- ..- -- .- .-. .-  -.- .- .- -.. ..-  .--. . .-. ..- ... ..-  -.. .... .- -.', \n",
    "        '-.-. .... .. -. -. .-  - .... . .  -.- ..- -.-. .... ..  --- ... .- .-. .- --  ... .. .-. ..- ... ..-  -.. .... .- -.'\n",
    "        ]\n",
    "\n",
    "ver2 = ['.- -.. .-  - .... . -.- ..- -- .- .-. .-  -.- .- .- -.. ..-  .--. . .-. ..- ... ..-  -.. .... .- -.', \n",
    "        '-.-. .... .. -. -. .-  - .... . .  -.- ..- -.-. .... ..  --- ... .- .-. .- --  ... .. .-. ..- ... ..-  -.. .... .- -.', \n",
    "        '-.-. .... .. -. -. .-  - .... . .  -.- ..- -.-. .... ..  ...- .. .-.. ..- -. -.. .... ..-  .--. ..- -.. .. -.- ..- -.. .... .- -.. ..', \n",
    "        '-.- .- .-. ..-  - .... .- . -.- ..- -- .- .-. .-  -.- .- .- -.. ..-  ...- . -.. .. -.- ..- -.. .... .- -.. .. ..'\n",
    "        ]\n",
    "\n",
    "upup = ['..- ... ..- .-. .  .--. --- --. ..- -.. .... .  ..- ... ..- .-. .  .--. --- --. ..- -.. .... .', \n",
    "        '--- -.. .... .- - .-  -. . .  -.- --- -. .--- .- --  ... ..- --.. .... .. -.- .- -.-- .. .-.. .- .', \n",
    "        '--- --- --- ---  -- .- .- -- . -.  - .... .- ...- .. -.- ..- .-. . -.  -- .- -.. .. .--. .. -.-. .... .-  -.- . -.- ..- .-. . -. ', \n",
    "        '-- .- -. .- ... .-  - .... .- .- -.. ..  . -.  -- .- -. ..  -.- ..- -.-- .. .-.. . -.--'\n",
    "        ]\n",
    "\n",
    "akkr = ['.- -.- -.- .- .-. .- ..  -.-. .... . . -- .- -.-- .. .-..  -. . .  .. .-. ..- -. -.. .... ..- --', \n",
    "        '.- ..  ...- .. .-. .- .-..  - .... . . -. -.. .. -.. .-  -. .. -. .- .. -.- ..- -.. .... .- -.. ..', \n",
    "        '.- --. --. .. -. ..  .--. .- --.. .... .- -- ..- -. ..-  - .... . .-. .. -. .--- .. .-. ..- -. -.. .... ..- --', \n",
    "        '.- -.. .. -.- .- ..  -. .- .- -.- ..-  - .... ..- -.. .. -.- ..- -.. .... .- -.. ..'\n",
    "        ]\n",
    "\n",
    "od_ma = ['--- -.. .- -- -... ..- --  -- .- -. .- ... ..- --  -.. .... --- --- .-. .- --  -.. .... --- --- .-. .- --', \n",
    "         '--- - - .-  -. . -. .- .. -.- .-  .- .- --. .- .-.. .-', \n",
    "         '-- .- -. .- ... ..-  ... --- .-.. .-.. ..- --  -. . .-.. .-.. .-  ... --- .-.. .-.. .-', \n",
    "         '-- .- .- -.-- .-  --- -.. .- -- -... ..-  -.- . -.- .- .-.. .-'\n",
    "         ]\n",
    "\n",
    "thavi = ['- .... .- ...- .. -.-- .-  - .... .- ...- .. -.-. .... ..-', \n",
    "         '..- ... .. .-.  - .... .- -.. .- -. -.- . - - ..-  - .... .. .-. .. -.-- ..- -.. .... .- -.. ..', \n",
    "         '- .... .- .. .-.. --- -.  -.- ..- .-. ..- ...- ..', \n",
    "         '. -. -. .-  - .... .- .-.. .-.. ..  -. .. -. -. ..-  ... .. .-. .. -.- ..- -.. .... .- -.. ..'\n",
    "         ]\n",
    "\n",
    "kozhi = ['.. -. -.. .... .-  -- .- -- -- ..- -.. .... .-  -.- .. .-. ..- -.- -.- ..-  - .... . . .-. ..- -- .-', \n",
    "         '.- -.. .-  -- .- -. -.. .... .. .-. .. -.-. .... ..-  ...- .. - - .-  -.- --- --.. .... ..  -- .- .- .-. ..- -- .-', \n",
    "         '. -.  -- .- -.-- .- -.- .- - .... .-  - .... . . - .... ..- ...- . -.-. .... ..  -- .- -. -. .. -.-. .... .. .-. ..- -- .- .-'\n",
    "         ]\n",
    "\n",
    "ch_su = ['-.-. .... .- -. -.. .... .. .-. .- -. ..- --  ... --- --- .-. .. -.-- .- -. ..- --', \n",
    "         '... ..- - .... ..  --- .-. ..-  -.- --- - .. .-..  ...- .- .-. ..- --. ..- -.. .... .', \n",
    "         '... .- - .... .. -.-- .- -- ..- --  .--. .- - .... .. -.-- .- -- ..- --', \n",
    "         '.. -. --. .-  - .... .- .-.. .-  ... ..- - .... ..  -.- . -.. .- -.- ..- -.. .... .'\n",
    "         ]"
   ]
  },
  {
   "cell_type": "code",
   "execution_count": null,
   "metadata": {},
   "outputs": [],
   "source": [
    "for ver in [ver1, ver2, upup, akkr, od_ma, thavi, kozhi, ch_su]:\n",
    "    for line in ver:\n",
    "        print(decrypt(line))\n",
    "    print()"
   ]
  }
 ],
 "metadata": {
  "kernelspec": {
   "display_name": "Python 3",
   "language": "python",
   "name": "python3"
  },
  "language_info": {
   "codemirror_mode": {
    "name": "ipython",
    "version": 3
   },
   "file_extension": ".py",
   "mimetype": "text/x-python",
   "name": "python",
   "nbconvert_exporter": "python",
   "pygments_lexer": "ipython3",
   "version": "3.9.1"
  }
 },
 "nbformat": 4,
 "nbformat_minor": 2
}
